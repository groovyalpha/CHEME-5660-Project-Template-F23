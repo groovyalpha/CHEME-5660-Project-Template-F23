{
 "cells": [
  {
   "cell_type": "markdown",
   "id": "80ae6a55-e35b-401a-9fd2-353207a8b340",
   "metadata": {},
   "source": [
    "# Your Title Information Goes Here\n",
    "Fill me in"
   ]
  },
  {
   "cell_type": "markdown",
   "id": "cac5eb3a-be19-4274-8400-09af3e83ff21",
   "metadata": {
    "tags": []
   },
   "source": [
    "## Setup"
   ]
  },
  {
   "cell_type": "code",
   "execution_count": 1,
   "id": "a45fd99a-ff08-4e35-9c46-6a965f30ac48",
   "metadata": {},
   "outputs": [],
   "source": [
    "include(\"CHEME-5760-L13a-CodeLib.jl\");"
   ]
  },
  {
   "cell_type": "code",
   "execution_count": 2,
   "id": "c428c856-064a-4a35-97bc-800cc0d49a58",
   "metadata": {
    "tags": []
   },
   "outputs": [
    {
     "name": "stderr",
     "output_type": "stream",
     "text": [
      "\u001b[32m\u001b[1m    Updating\u001b[22m\u001b[39m git-repo `https://github.com/varnerlab/VLQuantitativeFinancePackage.jl.git`\n",
      "\u001b[32m\u001b[1m   Resolving\u001b[22m\u001b[39m package versions...\n",
      "\u001b[32m\u001b[1m  No Changes\u001b[22m\u001b[39m to `~/Documents/GitHub/5760FinalProject/CHEME-5660-Project-Template-F23/Project.toml`\n",
      "\u001b[32m\u001b[1m  No Changes\u001b[22m\u001b[39m to `~/Documents/GitHub/5760FinalProject/CHEME-5660-Project-Template-F23/Manifest.toml`\n",
      "\u001b[32m\u001b[1m  Activating\u001b[22m\u001b[39m project at `~/Documents/GitHub/5760FinalProject/CHEME-5660-Project-Template-F23`\n",
      "\u001b[32m\u001b[1m  No Changes\u001b[22m\u001b[39m to `~/Documents/GitHub/5760FinalProject/CHEME-5660-Project-Template-F23/Project.toml`\n",
      "\u001b[32m\u001b[1m  No Changes\u001b[22m\u001b[39m to `~/Documents/GitHub/5760FinalProject/CHEME-5660-Project-Template-F23/Manifest.toml`\n",
      "\u001b[32m\u001b[1m    Updating\u001b[22m\u001b[39m registry at `~/.julia/registries/General.toml`\n",
      "\u001b[32m\u001b[1m    Updating\u001b[22m\u001b[39m git-repo `https://github.com/varnerlab/VLQuantitativeFinancePackage.jl.git`\n",
      "\u001b[32m\u001b[1m  No Changes\u001b[22m\u001b[39m to `~/Documents/GitHub/5760FinalProject/CHEME-5660-Project-Template-F23/Project.toml`\n",
      "\u001b[32m\u001b[1m  No Changes\u001b[22m\u001b[39m to `~/Documents/GitHub/5760FinalProject/CHEME-5660-Project-Template-F23/Manifest.toml`\n",
      "WARNING: using VLQuantitativeFinancePackage.build in module Main conflicts with an existing identifier.\n"
     ]
    }
   ],
   "source": [
    "include(\"Include.jl\");"
   ]
  },
  {
   "cell_type": "markdown",
   "id": "21519cf1-3079-4a5a-8859-fd21f48bce94",
   "metadata": {
    "tags": []
   },
   "source": [
    "## Prerequisites: Load historical dataset, compute expected returns and get 2023 `SPY` data\n",
    "We gathered a daily open-high-low-close `dataset` for each firm in the [S&P500](https://en.wikipedia.org/wiki/S%26P_500) since `01-03-2018` until `12-01-2023`, along with data for a few exchange traded funds and volatility products during that time. "
   ]
  },
  {
   "cell_type": "code",
   "execution_count": 3,
   "id": "79aa4361-4713-47c5-9892-8d822e7aac68",
   "metadata": {
    "tags": []
   },
   "outputs": [],
   "source": [
    "original_dataset = load(joinpath(_PATH_TO_DATA, \n",
    "        \"SP500-Daily-OHLC-1-3-2018-to-12-01-2023.jld2\")) |> x-> x[\"dataset\"];"
   ]
  },
  {
   "cell_type": "markdown",
   "id": "d5567fb5-3688-4fe7-8cc9-201119de77f5",
   "metadata": {},
   "source": [
    "### Clean the data\n",
    "Not all of the tickers in our dataset have the maximum number of trading days for various reasons, e.g., acquistion or de-listing events. Let's collect only those tickers with the maximum number of trading days.\n",
    "\n",
    "* First, let's compute the number of records for a company that we know has a maximim value, e.g., `AAPL` and save that value in the `maximum_number_trading_days` variable:"
   ]
  },
  {
   "cell_type": "code",
   "execution_count": 4,
   "id": "5e88a72f-9231-459a-99bc-f0fdccc6e42d",
   "metadata": {
    "tags": []
   },
   "outputs": [],
   "source": [
    "maximum_number_trading_days = original_dataset[\"AAPL\"] |> nrow;"
   ]
  },
  {
   "cell_type": "markdown",
   "id": "d3b64e6f-3662-48fe-bcec-ba6da19f60f9",
   "metadata": {},
   "source": [
    "Now, lets iterate through our data and collect only those tickers that have `maximum_number_trading_days` records. Save that data in the `dataset::Dict{String,DataFrame}` variable:"
   ]
  },
  {
   "cell_type": "code",
   "execution_count": 5,
   "id": "9b263c2a-7cb2-42ef-a700-b857aeb22f8e",
   "metadata": {
    "tags": []
   },
   "outputs": [],
   "source": [
    "dataset = Dict{String,DataFrame}();\n",
    "for (ticker,data) ∈ original_dataset\n",
    "    if (nrow(data) == maximum_number_trading_days)\n",
    "        dataset[ticker] = data;\n",
    "    end\n",
    "end\n",
    "dataset;"
   ]
  },
  {
   "cell_type": "markdown",
   "id": "5ffb1bec-88c3-4648-b7e9-9b1300504b4a",
   "metadata": {},
   "source": [
    "Let's get a list of firms that we have in cleaned up `dataset`, and save it in the `all_tickers` array:"
   ]
  },
  {
   "cell_type": "code",
   "execution_count": 6,
   "id": "93f5fc90-048c-4e23-83da-8a362b297f77",
   "metadata": {
    "tags": []
   },
   "outputs": [],
   "source": [
    "all_tickers = keys(dataset) |> collect |> sort;\n",
    "K = length(all_tickers);"
   ]
  },
  {
   "cell_type": "markdown",
   "id": "1266557c-c5ce-4c67-9f93-7dcdb3038e26",
   "metadata": {},
   "source": [
    "### Get the 2023 `SPY` data"
   ]
  },
  {
   "cell_type": "code",
   "execution_count": 7,
   "id": "b700d807-61d8-4d3c-8c78-0908bcd81855",
   "metadata": {
    "tags": []
   },
   "outputs": [
    {
     "data": {
      "text/html": [
       "<div><div style = \"float: left;\"><span>231×8 DataFrame</span></div><div style = \"float: right;\"><span style = \"font-style: italic;\">206 rows omitted</span></div><div style = \"clear: both;\"></div></div><div class = \"data-frame\" style = \"overflow-x: scroll;\"><table class = \"data-frame\" style = \"margin-bottom: 6px;\"><thead><tr class = \"header\"><th class = \"rowNumber\" style = \"font-weight: bold; text-align: right;\">Row</th><th style = \"text-align: left;\">volume</th><th style = \"text-align: left;\">volume_weighted_average_price</th><th style = \"text-align: left;\">open</th><th style = \"text-align: left;\">close</th><th style = \"text-align: left;\">high</th><th style = \"text-align: left;\">low</th><th style = \"text-align: left;\">timestamp</th><th style = \"text-align: left;\">number_of_transactions</th></tr><tr class = \"subheader headerLastRow\"><th class = \"rowNumber\" style = \"font-weight: bold; text-align: right;\"></th><th title = \"Float64\" style = \"text-align: left;\">Float64</th><th title = \"Float64\" style = \"text-align: left;\">Float64</th><th title = \"Float64\" style = \"text-align: left;\">Float64</th><th title = \"Float64\" style = \"text-align: left;\">Float64</th><th title = \"Float64\" style = \"text-align: left;\">Float64</th><th title = \"Float64\" style = \"text-align: left;\">Float64</th><th title = \"DateTime\" style = \"text-align: left;\">DateTime</th><th title = \"Int64\" style = \"text-align: left;\">Int64</th></tr></thead><tbody><tr><td class = \"rowNumber\" style = \"font-weight: bold; text-align: right;\">1</td><td style = \"text-align: right;\">7.48507e7</td><td style = \"text-align: right;\">380.958</td><td style = \"text-align: right;\">384.37</td><td style = \"text-align: right;\">380.82</td><td style = \"text-align: right;\">386.43</td><td style = \"text-align: right;\">377.831</td><td style = \"text-align: left;\">2023-01-03T05:00:00</td><td style = \"text-align: right;\">590240</td></tr><tr><td class = \"rowNumber\" style = \"font-weight: bold; text-align: right;\">2</td><td style = \"text-align: right;\">8.59341e7</td><td style = \"text-align: right;\">383.149</td><td style = \"text-align: right;\">383.18</td><td style = \"text-align: right;\">383.76</td><td style = \"text-align: right;\">385.88</td><td style = \"text-align: right;\">380.0</td><td style = \"text-align: left;\">2023-01-04T05:00:00</td><td style = \"text-align: right;\">632808</td></tr><tr><td class = \"rowNumber\" style = \"font-weight: bold; text-align: right;\">3</td><td style = \"text-align: right;\">7.62754e7</td><td style = \"text-align: right;\">380.262</td><td style = \"text-align: right;\">381.72</td><td style = \"text-align: right;\">379.38</td><td style = \"text-align: right;\">381.84</td><td style = \"text-align: right;\">378.76</td><td style = \"text-align: left;\">2023-01-05T05:00:00</td><td style = \"text-align: right;\">530896</td></tr><tr><td class = \"rowNumber\" style = \"font-weight: bold; text-align: right;\">4</td><td style = \"text-align: right;\">1.04053e8</td><td style = \"text-align: right;\">385.246</td><td style = \"text-align: right;\">382.61</td><td style = \"text-align: right;\">388.08</td><td style = \"text-align: right;\">389.25</td><td style = \"text-align: right;\">379.413</td><td style = \"text-align: left;\">2023-01-06T05:00:00</td><td style = \"text-align: right;\">687390</td></tr><tr><td class = \"rowNumber\" style = \"font-weight: bold; text-align: right;\">5</td><td style = \"text-align: right;\">7.39781e7</td><td style = \"text-align: right;\">390.363</td><td style = \"text-align: right;\">390.37</td><td style = \"text-align: right;\">387.86</td><td style = \"text-align: right;\">393.7</td><td style = \"text-align: right;\">387.67</td><td style = \"text-align: left;\">2023-01-09T05:00:00</td><td style = \"text-align: right;\">549428</td></tr><tr><td class = \"rowNumber\" style = \"font-weight: bold; text-align: right;\">6</td><td style = \"text-align: right;\">6.52981e7</td><td style = \"text-align: right;\">389.082</td><td style = \"text-align: right;\">387.25</td><td style = \"text-align: right;\">390.58</td><td style = \"text-align: right;\">390.65</td><td style = \"text-align: right;\">386.27</td><td style = \"text-align: left;\">2023-01-10T05:00:00</td><td style = \"text-align: right;\">471958</td></tr><tr><td class = \"rowNumber\" style = \"font-weight: bold; text-align: right;\">7</td><td style = \"text-align: right;\">6.8703e7</td><td style = \"text-align: right;\">393.3</td><td style = \"text-align: right;\">392.23</td><td style = \"text-align: right;\">395.52</td><td style = \"text-align: right;\">395.6</td><td style = \"text-align: right;\">391.38</td><td style = \"text-align: left;\">2023-01-11T05:00:00</td><td style = \"text-align: right;\">452701</td></tr><tr><td class = \"rowNumber\" style = \"font-weight: bold; text-align: right;\">8</td><td style = \"text-align: right;\">9.01457e7</td><td style = \"text-align: right;\">396.312</td><td style = \"text-align: right;\">396.67</td><td style = \"text-align: right;\">396.96</td><td style = \"text-align: right;\">398.485</td><td style = \"text-align: right;\">392.42</td><td style = \"text-align: left;\">2023-01-12T05:00:00</td><td style = \"text-align: right;\">665042</td></tr><tr><td class = \"rowNumber\" style = \"font-weight: bold; text-align: right;\">9</td><td style = \"text-align: right;\">6.38539e7</td><td style = \"text-align: right;\">396.838</td><td style = \"text-align: right;\">393.62</td><td style = \"text-align: right;\">398.5</td><td style = \"text-align: right;\">399.1</td><td style = \"text-align: right;\">393.34</td><td style = \"text-align: left;\">2023-01-13T05:00:00</td><td style = \"text-align: right;\">468376</td></tr><tr><td class = \"rowNumber\" style = \"font-weight: bold; text-align: right;\">10</td><td style = \"text-align: right;\">6.25773e7</td><td style = \"text-align: right;\">398.197</td><td style = \"text-align: right;\">398.48</td><td style = \"text-align: right;\">397.77</td><td style = \"text-align: right;\">400.23</td><td style = \"text-align: right;\">397.06</td><td style = \"text-align: left;\">2023-01-17T05:00:00</td><td style = \"text-align: right;\">437653</td></tr><tr><td class = \"rowNumber\" style = \"font-weight: bold; text-align: right;\">11</td><td style = \"text-align: right;\">9.94951e7</td><td style = \"text-align: right;\">394.555</td><td style = \"text-align: right;\">399.01</td><td style = \"text-align: right;\">391.49</td><td style = \"text-align: right;\">400.12</td><td style = \"text-align: right;\">391.28</td><td style = \"text-align: left;\">2023-01-18T05:00:00</td><td style = \"text-align: right;\">642978</td></tr><tr><td class = \"rowNumber\" style = \"font-weight: bold; text-align: right;\">12</td><td style = \"text-align: right;\">8.66019e7</td><td style = \"text-align: right;\">389.267</td><td style = \"text-align: right;\">389.36</td><td style = \"text-align: right;\">388.64</td><td style = \"text-align: right;\">391.08</td><td style = \"text-align: right;\">387.26</td><td style = \"text-align: left;\">2023-01-19T05:00:00</td><td style = \"text-align: right;\">548674</td></tr><tr><td class = \"rowNumber\" style = \"font-weight: bold; text-align: right;\">13</td><td style = \"text-align: right;\">9.15421e7</td><td style = \"text-align: right;\">392.59</td><td style = \"text-align: right;\">390.1</td><td style = \"text-align: right;\">395.88</td><td style = \"text-align: right;\">396.04</td><td style = \"text-align: right;\">388.38</td><td style = \"text-align: left;\">2023-01-20T05:00:00</td><td style = \"text-align: right;\">505912</td></tr><tr><td style = \"text-align: right;\">&vellip;</td><td style = \"text-align: right;\">&vellip;</td><td style = \"text-align: right;\">&vellip;</td><td style = \"text-align: right;\">&vellip;</td><td style = \"text-align: right;\">&vellip;</td><td style = \"text-align: right;\">&vellip;</td><td style = \"text-align: right;\">&vellip;</td><td style = \"text-align: right;\">&vellip;</td><td style = \"text-align: right;\">&vellip;</td></tr><tr><td class = \"rowNumber\" style = \"font-weight: bold; text-align: right;\">220</td><td style = \"text-align: right;\">7.73276e7</td><td style = \"text-align: right;\">450.019</td><td style = \"text-align: right;\">450.11</td><td style = \"text-align: right;\">449.68</td><td style = \"text-align: right;\">451.38</td><td style = \"text-align: right;\">448.8</td><td style = \"text-align: left;\">2023-11-15T05:00:00</td><td style = \"text-align: right;\">555373</td></tr><tr><td class = \"rowNumber\" style = \"font-weight: bold; text-align: right;\">221</td><td style = \"text-align: right;\">6.66545e7</td><td style = \"text-align: right;\">449.475</td><td style = \"text-align: right;\">449.22</td><td style = \"text-align: right;\">450.23</td><td style = \"text-align: right;\">450.56</td><td style = \"text-align: right;\">448.12</td><td style = \"text-align: left;\">2023-11-16T05:00:00</td><td style = \"text-align: right;\">507743</td></tr><tr><td class = \"rowNumber\" style = \"font-weight: bold; text-align: right;\">222</td><td style = \"text-align: right;\">8.31939e7</td><td style = \"text-align: right;\">450.53</td><td style = \"text-align: right;\">450.24</td><td style = \"text-align: right;\">450.79</td><td style = \"text-align: right;\">451.42</td><td style = \"text-align: right;\">449.29</td><td style = \"text-align: left;\">2023-11-17T05:00:00</td><td style = \"text-align: right;\">439852</td></tr><tr><td class = \"rowNumber\" style = \"font-weight: bold; text-align: right;\">223</td><td style = \"text-align: right;\">6.96146e7</td><td style = \"text-align: right;\">453.296</td><td style = \"text-align: right;\">450.53</td><td style = \"text-align: right;\">454.26</td><td style = \"text-align: right;\">455.125</td><td style = \"text-align: right;\">450.52</td><td style = \"text-align: left;\">2023-11-20T05:00:00</td><td style = \"text-align: right;\">488761</td></tr><tr><td class = \"rowNumber\" style = \"font-weight: bold; text-align: right;\">224</td><td style = \"text-align: right;\">4.92446e7</td><td style = \"text-align: right;\">453.027</td><td style = \"text-align: right;\">453.184</td><td style = \"text-align: right;\">453.27</td><td style = \"text-align: right;\">454.131</td><td style = \"text-align: right;\">451.96</td><td style = \"text-align: left;\">2023-11-21T05:00:00</td><td style = \"text-align: right;\">405390</td></tr><tr><td class = \"rowNumber\" style = \"font-weight: bold; text-align: right;\">225</td><td style = \"text-align: right;\">5.94466e7</td><td style = \"text-align: right;\">455.034</td><td style = \"text-align: right;\">454.98</td><td style = \"text-align: right;\">455.02</td><td style = \"text-align: right;\">456.38</td><td style = \"text-align: right;\">453.889</td><td style = \"text-align: left;\">2023-11-22T05:00:00</td><td style = \"text-align: right;\">479662</td></tr><tr><td class = \"rowNumber\" style = \"font-weight: bold; text-align: right;\">226</td><td style = \"text-align: right;\">2.96674e7</td><td style = \"text-align: right;\">455.097</td><td style = \"text-align: right;\">455.07</td><td style = \"text-align: right;\">455.3</td><td style = \"text-align: right;\">455.5</td><td style = \"text-align: right;\">454.73</td><td style = \"text-align: left;\">2023-11-24T05:00:00</td><td style = \"text-align: right;\">190767</td></tr><tr><td class = \"rowNumber\" style = \"font-weight: bold; text-align: right;\">227</td><td style = \"text-align: right;\">5.0413e7</td><td style = \"text-align: right;\">454.829</td><td style = \"text-align: right;\">454.65</td><td style = \"text-align: right;\">454.48</td><td style = \"text-align: right;\">455.49</td><td style = \"text-align: right;\">454.08</td><td style = \"text-align: left;\">2023-11-27T05:00:00</td><td style = \"text-align: right;\">400697</td></tr><tr><td class = \"rowNumber\" style = \"font-weight: bold; text-align: right;\">228</td><td style = \"text-align: right;\">6.20838e7</td><td style = \"text-align: right;\">454.722</td><td style = \"text-align: right;\">454.08</td><td style = \"text-align: right;\">454.93</td><td style = \"text-align: right;\">456.27</td><td style = \"text-align: right;\">453.5</td><td style = \"text-align: left;\">2023-11-28T05:00:00</td><td style = \"text-align: right;\">461129</td></tr><tr><td class = \"rowNumber\" style = \"font-weight: bold; text-align: right;\">229</td><td style = \"text-align: right;\">6.3141e7</td><td style = \"text-align: right;\">455.818</td><td style = \"text-align: right;\">457.15</td><td style = \"text-align: right;\">454.61</td><td style = \"text-align: right;\">458.32</td><td style = \"text-align: right;\">454.2</td><td style = \"text-align: left;\">2023-11-29T05:00:00</td><td style = \"text-align: right;\">455446</td></tr><tr><td class = \"rowNumber\" style = \"font-weight: bold; text-align: right;\">230</td><td style = \"text-align: right;\">7.97527e7</td><td style = \"text-align: right;\">455.146</td><td style = \"text-align: right;\">455.48</td><td style = \"text-align: right;\">456.4</td><td style = \"text-align: right;\">456.76</td><td style = \"text-align: right;\">453.34</td><td style = \"text-align: left;\">2023-11-30T05:00:00</td><td style = \"text-align: right;\">516017</td></tr><tr><td class = \"rowNumber\" style = \"font-weight: bold; text-align: right;\">231</td><td style = \"text-align: right;\">8.89834e7</td><td style = \"text-align: right;\">457.87</td><td style = \"text-align: right;\">455.77</td><td style = \"text-align: right;\">459.1</td><td style = \"text-align: right;\">459.65</td><td style = \"text-align: right;\">455.16</td><td style = \"text-align: left;\">2023-12-01T05:00:00</td><td style = \"text-align: right;\">606481</td></tr></tbody></table></div>"
      ],
      "text/latex": [
       "\\begin{tabular}{r|cccccccc}\n",
       "\t& volume & volume\\_weighted\\_average\\_price & open & close & high & low & timestamp & \\\\\n",
       "\t\\hline\n",
       "\t& Float64 & Float64 & Float64 & Float64 & Float64 & Float64 & DateTime & \\\\\n",
       "\t\\hline\n",
       "\t1 & 7.48507e7 & 380.958 & 384.37 & 380.82 & 386.43 & 377.831 & 2023-01-03T05:00:00 & $\\dots$ \\\\\n",
       "\t2 & 8.59341e7 & 383.149 & 383.18 & 383.76 & 385.88 & 380.0 & 2023-01-04T05:00:00 & $\\dots$ \\\\\n",
       "\t3 & 7.62754e7 & 380.262 & 381.72 & 379.38 & 381.84 & 378.76 & 2023-01-05T05:00:00 & $\\dots$ \\\\\n",
       "\t4 & 1.04053e8 & 385.246 & 382.61 & 388.08 & 389.25 & 379.413 & 2023-01-06T05:00:00 & $\\dots$ \\\\\n",
       "\t5 & 7.39781e7 & 390.363 & 390.37 & 387.86 & 393.7 & 387.67 & 2023-01-09T05:00:00 & $\\dots$ \\\\\n",
       "\t6 & 6.52981e7 & 389.082 & 387.25 & 390.58 & 390.65 & 386.27 & 2023-01-10T05:00:00 & $\\dots$ \\\\\n",
       "\t7 & 6.8703e7 & 393.3 & 392.23 & 395.52 & 395.6 & 391.38 & 2023-01-11T05:00:00 & $\\dots$ \\\\\n",
       "\t8 & 9.01457e7 & 396.312 & 396.67 & 396.96 & 398.485 & 392.42 & 2023-01-12T05:00:00 & $\\dots$ \\\\\n",
       "\t9 & 6.38539e7 & 396.838 & 393.62 & 398.5 & 399.1 & 393.34 & 2023-01-13T05:00:00 & $\\dots$ \\\\\n",
       "\t10 & 6.25773e7 & 398.197 & 398.48 & 397.77 & 400.23 & 397.06 & 2023-01-17T05:00:00 & $\\dots$ \\\\\n",
       "\t11 & 9.94951e7 & 394.555 & 399.01 & 391.49 & 400.12 & 391.28 & 2023-01-18T05:00:00 & $\\dots$ \\\\\n",
       "\t12 & 8.66019e7 & 389.267 & 389.36 & 388.64 & 391.08 & 387.26 & 2023-01-19T05:00:00 & $\\dots$ \\\\\n",
       "\t13 & 9.15421e7 & 392.59 & 390.1 & 395.88 & 396.04 & 388.38 & 2023-01-20T05:00:00 & $\\dots$ \\\\\n",
       "\t14 & 8.41788e7 & 399.771 & 396.72 & 400.63 & 402.645 & 395.72 & 2023-01-23T05:00:00 & $\\dots$ \\\\\n",
       "\t15 & 5.94694e7 & 399.936 & 398.88 & 400.2 & 401.15 & 397.64 & 2023-01-24T05:00:00 & $\\dots$ \\\\\n",
       "\t16 & 8.46845e7 & 397.855 & 395.95 & 400.35 & 400.7 & 393.56 & 2023-01-25T05:00:00 & $\\dots$ \\\\\n",
       "\t17 & 7.21774e7 & 402.613 & 403.13 & 404.75 & 404.92 & 400.03 & 2023-01-26T05:00:00 & $\\dots$ \\\\\n",
       "\t18 & 6.82492e7 & 405.789 & 403.655 & 405.68 & 408.16 & 403.44 & 2023-01-27T05:00:00 & $\\dots$ \\\\\n",
       "\t19 & 7.40676e7 & 402.228 & 402.8 & 400.59 & 405.13 & 400.28 & 2023-01-30T05:00:00 & $\\dots$ \\\\\n",
       "\t20 & 8.66558e7 & 404.161 & 401.13 & 406.48 & 406.53 & 400.77 & 2023-01-31T05:00:00 & $\\dots$ \\\\\n",
       "\t21 & 1.01459e8 & 407.863 & 405.211 & 410.8 & 413.67 & 402.35 & 2023-02-01T05:00:00 & $\\dots$ \\\\\n",
       "\t22 & 1.01193e8 & 415.522 & 414.86 & 416.78 & 418.31 & 412.88 & 2023-02-02T05:00:00 & $\\dots$ \\\\\n",
       "\t23 & 9.45772e7 & 413.77 & 411.59 & 412.35 & 416.97 & 411.09 & 2023-02-03T05:00:00 & $\\dots$ \\\\\n",
       "\t24 & 6.025e7 & 409.992 & 409.79 & 409.83 & 411.29 & 408.1 & 2023-02-06T05:00:00 & $\\dots$ \\\\\n",
       "\t25 & 9.07217e7 & 411.992 & 408.87 & 415.19 & 416.49 & 407.57 & 2023-02-07T05:00:00 & $\\dots$ \\\\\n",
       "\t26 & 7.62275e7 & 411.925 & 413.13 & 410.65 & 414.53 & 409.93 & 2023-02-08T05:00:00 & $\\dots$ \\\\\n",
       "\t27 & 7.85641e7 & 409.796 & 414.41 & 407.09 & 414.57 & 405.81 & 2023-02-09T05:00:00 & $\\dots$ \\\\\n",
       "\t28 & 7.07676e7 & 407.009 & 405.86 & 408.04 & 408.44 & 405.01 & 2023-02-10T05:00:00 & $\\dots$ \\\\\n",
       "\t29 & 6.4903e7 & 411.387 & 408.72 & 412.83 & 412.97 & 408.24 & 2023-02-13T05:00:00 & $\\dots$ \\\\\n",
       "\t30 & 8.76818e7 & 412.124 & 411.24 & 412.64 & 415.05 & 408.511 & 2023-02-14T05:00:00 & $\\dots$ \\\\\n",
       "\t$\\dots$ & $\\dots$ & $\\dots$ & $\\dots$ & $\\dots$ & $\\dots$ & $\\dots$ & $\\dots$ &  \\\\\n",
       "\\end{tabular}\n"
      ],
      "text/plain": [
       "\u001b[1m231×8 DataFrame\u001b[0m\n",
       "\u001b[1m Row \u001b[0m│\u001b[1m volume    \u001b[0m\u001b[1m volume_weighted_average_price \u001b[0m\u001b[1m open    \u001b[0m\u001b[1m close   \u001b[0m\u001b[1m high    \u001b[0m\u001b[1m lo\u001b[0m ⋯\n",
       "     │\u001b[90m Float64   \u001b[0m\u001b[90m Float64                       \u001b[0m\u001b[90m Float64 \u001b[0m\u001b[90m Float64 \u001b[0m\u001b[90m Float64 \u001b[0m\u001b[90m Fl\u001b[0m ⋯\n",
       "─────┼──────────────────────────────────────────────────────────────────────────\n",
       "   1 │ 7.48507e7                        380.958  384.37    380.82  386.43   37 ⋯\n",
       "   2 │ 8.59341e7                        383.149  383.18    383.76  385.88   38\n",
       "   3 │ 7.62754e7                        380.262  381.72    379.38  381.84   37\n",
       "   4 │ 1.04053e8                        385.246  382.61    388.08  389.25   37\n",
       "   5 │ 7.39781e7                        390.363  390.37    387.86  393.7    38 ⋯\n",
       "   6 │ 6.52981e7                        389.082  387.25    390.58  390.65   38\n",
       "   7 │ 6.8703e7                         393.3    392.23    395.52  395.6    39\n",
       "   8 │ 9.01457e7                        396.312  396.67    396.96  398.485  39\n",
       "   9 │ 6.38539e7                        396.838  393.62    398.5   399.1    39 ⋯\n",
       "  10 │ 6.25773e7                        398.197  398.48    397.77  400.23   39\n",
       "  11 │ 9.94951e7                        394.555  399.01    391.49  400.12   39\n",
       "  ⋮  │     ⋮                    ⋮                   ⋮        ⋮        ⋮        ⋱\n",
       " 222 │ 8.31939e7                        450.53   450.24    450.79  451.42   44\n",
       " 223 │ 6.96146e7                        453.296  450.53    454.26  455.125  45 ⋯\n",
       " 224 │ 4.92446e7                        453.027  453.184   453.27  454.131  45\n",
       " 225 │ 5.94466e7                        455.034  454.98    455.02  456.38   45\n",
       " 226 │ 2.96674e7                        455.097  455.07    455.3   455.5    45\n",
       " 227 │ 5.0413e7                         454.829  454.65    454.48  455.49   45 ⋯\n",
       " 228 │ 6.20838e7                        454.722  454.08    454.93  456.27   45\n",
       " 229 │ 6.3141e7                         455.818  457.15    454.61  458.32   45\n",
       " 230 │ 7.97527e7                        455.146  455.48    456.4   456.76   45\n",
       " 231 │ 8.89834e7                        457.87   455.77    459.1   459.65   45 ⋯\n",
       "\u001b[36m                                                  3 columns and 210 rows omitted\u001b[0m"
      ]
     },
     "execution_count": 7,
     "metadata": {},
     "output_type": "execute_result"
    }
   ],
   "source": [
    "startdate = Date(2023,01,03);\n",
    "SPY_dataset = dataset[\"SPY\"];\n",
    "SPY_df = filter(:timestamp => x-> x >= startdate, SPY_dataset);\n",
    "SPY_df"
   ]
  },
  {
   "cell_type": "markdown",
   "id": "9d07c6db-65c2-424b-878e-652936db2032",
   "metadata": {},
   "source": [
    "### Compute the expected return for all firms in the dataset\n",
    "The expected return $\\mathbb{E}(r_{i})$ and covariance matrix $\\Sigma$ will be used in our calculations, so we'll provide values for both of these items for the entire data set (all `N = 459` tickers), and then you can pick out which tickers you are interested in. \n",
    "\n",
    "* First, we compute the expected (annualized) log return by passing the `dataset` and the entire list of firms we have in the dataset (held in the $N\\times{1}$ `all_array` array) to the `log_return_matrix(...)` method. The result is stored in the `all_firms_return_matrix` variable, a $T-1\\times{N}$ array of log return values. Each row of `all_firms_return_matrix` corresponds to a time-value, while each column corresponds to a firm:"
   ]
  },
  {
   "cell_type": "code",
   "execution_count": 8,
   "id": "870a7ff9-d78c-4313-8e75-92cc67dc0858",
   "metadata": {
    "tags": []
   },
   "outputs": [],
   "source": [
    "all_firms_return_matrix = log_return_matrix(dataset, all_tickers, \n",
    "    Δt = (1.0/252.0), risk_free_rate = 0.0);"
   ]
  },
  {
   "cell_type": "markdown",
   "id": "2347705b-730c-44c2-ab83-4be788669bd9",
   "metadata": {},
   "source": [
    "## Your project starts here ...."
   ]
  },
  {
   "cell_type": "code",
   "execution_count": 9,
   "id": "255d7ec7-02f3-47fa-a292-08b886b706fe",
   "metadata": {},
   "outputs": [],
   "source": [
    "first_dataset = Dict{String,DataFrame}(); #Dataset from 2018-2022\n",
    "test_dataset = Dict{String,DataFrame}();  #Dataset for 2023\n",
    "\n",
    "for (ticker,data) ∈ dataset\n",
    "    first_data = first(dataset[ticker],1258) #The first 1258 rows have data for 2018-2022\n",
    "    first_dataset[ticker] = first_data\n",
    "    \n",
    "    test_data = last(dataset[ticker],231)    #The last 231 rows have data for 2023\n",
    "    test_dataset[ticker] = test_data\n",
    "end"
   ]
  },
  {
   "cell_type": "code",
   "execution_count": 10,
   "id": "333476f6-b931-4477-85e4-5cf8d2e5a50a",
   "metadata": {
    "tags": []
   },
   "outputs": [],
   "source": [
    "#first_dataset[\"AAPL\"]"
   ]
  },
  {
   "cell_type": "code",
   "execution_count": 11,
   "id": "a9fb2ad4-4362-4d31-8aa2-388bbf36e402",
   "metadata": {},
   "outputs": [],
   "source": [
    "#test_dataset[\"AAPL\"]"
   ]
  },
  {
   "cell_type": "code",
   "execution_count": 12,
   "id": "81be4028-959e-4d82-b80c-f5b1ddbc1086",
   "metadata": {},
   "outputs": [],
   "source": [
    "#dataset[\"PLD\"]"
   ]
  },
  {
   "cell_type": "code",
   "execution_count": 13,
   "id": "b66c06c9-e3eb-476c-a5d7-29ca69761b73",
   "metadata": {},
   "outputs": [
    {
     "data": {
      "text/plain": [
       "11-element Vector{String}:\n",
       " \"XOM\"\n",
       " \"SHW\"\n",
       " \"UPS\"\n",
       " \"AEP\"\n",
       " \"JNJ\"\n",
       " \"JPM\"\n",
       " \"AMZN\"\n",
       " \"KO\"\n",
       " \"AAPL\"\n",
       " \"GOOG\"\n",
       " \"PLD\""
      ]
     },
     "execution_count": 13,
     "metadata": {},
     "output_type": "execute_result"
    }
   ],
   "source": [
    "##One stock from each of the 11 Sectors of the Stock Market\n",
    "firms = [\"XOM\", \"SHW\", \"UPS\", \"AEP\", \"JNJ\", \"JPM\", \"AMZN\", \"KO\", \"AAPL\", \"GOOG\", \"PLD\"]"
   ]
  },
  {
   "cell_type": "code",
   "execution_count": 14,
   "id": "35d4834b-8907-4366-acfb-b454e07ad739",
   "metadata": {},
   "outputs": [],
   "source": [
    "function rbf(x::Tuple{Int,Int},y::Tuple{Int,Int}; σ = 1.0)::Float64\n",
    "    d = sqrt((x[1] - y[1])^2 + (x[2] - y[2])^2);\n",
    "    return exp(-d/(2*σ^2))\n",
    "end;\n",
    "\n",
    "# Step 1: Build a model of the world -\n",
    "number_of_rows = 5\n",
    "number_of_cols = 5\n",
    "nactions = 4; \n",
    "nstates = (number_of_rows*number_of_cols);\n",
    "𝒮 = range(1,stop=nstates,step=1) |> collect;\n",
    "𝒜 = range(1,stop=nactions,step=1) |> collect;"
   ]
  },
  {
   "cell_type": "code",
   "execution_count": 15,
   "id": "daddcedb-a79a-4528-b9de-fc458b862527",
   "metadata": {},
   "outputs": [],
   "source": [
    "# setup rewards -\n",
    "significant_loss = -1000.0; #if the portfolio loses more than 3% compared to SPY that day\n",
    "no_change = 0.0;\n",
    "significant_gain = 1000.0; #if the portfolio gains more than 3% compared to SPY that day\n",
    "\n",
    "\n",
    "soft_wall_set = Set{Tuple{Int,Int}}();\n",
    "push!(soft_wall_set, (2,2));\n",
    "σ = 1.0;\n",
    "default_reward = -1.0;\n",
    "\n",
    "# setup rewards -\n",
    "rewards = Dict{Tuple{Int,Int}, Float64}()\n",
    "rewards[(5,5)] = significant_gain\n",
    "\n",
    "absorbing_state_set = Set{Tuple{Int,Int}}()\n",
    "push!(absorbing_state_set, (5,5));"
   ]
  },
  {
   "cell_type": "code",
   "execution_count": null,
   "id": "c6b25cb4-1b55-41dc-b885-08419c06bd1a",
   "metadata": {},
   "outputs": [],
   "source": [
    "# do some shaping?\n",
    "is_reward_shaping_on = true;\n",
    "if (is_reward_shaping_on == true)\n",
    "    for s in 𝒮\n",
    "        for s′ in 𝒮\n",
    "            coordinate = (s,s′);\n",
    "            if (haskey(rewards, coordinate) == false && in(coordinate,soft_wall_set) == false && \n",
    "                    in(coordinate,absorbing_state_set) == false)\n",
    "                rewards[coordinate] = default_reward + charging_reward*rbf(coordinate, (5,6), σ = σ);\n",
    "            end\n",
    "        end\n",
    "    end\n",
    "end"
   ]
  },
  {
   "cell_type": "code",
   "execution_count": 16,
   "id": "9ca9cf2a-5b14-475e-9124-68ad66fba9b6",
   "metadata": {},
   "outputs": [],
   "source": [
    "# call the factory -\n",
    "world_model = build(MyRectangularGridWorldModel, (\n",
    "        nrows=number_of_rows, ncols=number_of_cols, rewards = rewards, defaultreward = default_reward));"
   ]
  },
  {
   "cell_type": "code",
   "execution_count": 17,
   "id": "e0326a70-531d-4e8a-969c-614b946fac85",
   "metadata": {},
   "outputs": [],
   "source": [
    "α = 0.7;  # learning rate\n",
    "# α = 0.0;  # learning rate\n",
    "γ = 0.95; # discount rate\n",
    "nstates = (number_of_rows*number_of_cols);\n",
    "agent_model = build(MyQLearningAgentModel, (\n",
    "    states = 𝒮,\n",
    "    actions = 𝒜,\n",
    "    α = α,\n",
    "    γ = γ,\n",
    "    Q = zeros(nstates,nactions) # Hmmm. Could we do something better that this?\n",
    "));"
   ]
  },
  {
   "cell_type": "code",
   "execution_count": 18,
   "id": "53d0b6bf-7bfd-4321-884d-8ae704d9b0f4",
   "metadata": {},
   "outputs": [],
   "source": [
    "startstate = (3,2); # start position at 3 shares AAPL and 2 Bonds\n",
    "number_of_episodes = 100;\n",
    "number_of_iterations = 231;"
   ]
  },
  {
   "cell_type": "code",
   "execution_count": 19,
   "id": "65167b6c-8016-4cbd-a3ad-c1714b867f00",
   "metadata": {},
   "outputs": [],
   "source": [
    "my_Q_dictionary = Dict{Tuple{Int,Int}, Array{Float64,2}}();\n",
    "coordinate = startstate;\n",
    "for i ∈ 1:number_of_episodes\n",
    "    \n",
    "    # run an episode, and grab the Q\n",
    "    result = simulate(agent_model, world_model, coordinate, number_of_iterations, ϵ = 0.7);\n",
    "\n",
    "    # update the agent with the Q from the last episode, and try to refine this Q\n",
    "    # Analogy: practice make perfect ...\n",
    "    agent_model.Q = result.Q;\n",
    "end\n",
    "my_Q_dictionary[coordinate] = agent_model.Q;"
   ]
  },
  {
   "cell_type": "code",
   "execution_count": 20,
   "id": "0d8ad91c-3014-4687-94bf-a37ee5b74690",
   "metadata": {},
   "outputs": [],
   "source": [
    "for s ∈ 𝒮\n",
    "    for s′ ∈ 𝒮\n",
    "          \n",
    "        coordinate = (s,s′)\n",
    "        if (in(coordinate, soft_wall_set) == false && in(coordinate,absorbing_state_set) == false && \n",
    "            haskey(world_model.states,coordinate) == true)\n",
    "            \n",
    "            # @show coordinate\n",
    "            for i ∈ 1:number_of_episodes\n",
    "    \n",
    "                # run an episode, and grab the Q\n",
    "                result = simulate(agent_model, world_model, coordinate, number_of_iterations, ϵ = 0.7);\n",
    "        \n",
    "                # update the agent with the Q from the last episode, and try to refine this Q\n",
    "                # Analogy: practice make perfect ...\n",
    "                agent_model.Q = result.Q;\n",
    "            end\n",
    "            my_Q_dictionary[coordinate] = agent_model.Q;\n",
    "        end\n",
    "    end\n",
    "end"
   ]
  },
  {
   "cell_type": "code",
   "execution_count": 21,
   "id": "64ec0e0c-4a7f-4f5e-b276-a98c8ad462bc",
   "metadata": {},
   "outputs": [],
   "source": [
    "Q = my_Q_dictionary[startstate];\n",
    "my_π = policy(Q);"
   ]
  },
  {
   "cell_type": "code",
   "execution_count": 22,
   "id": "34dc4292-39bb-4f5d-960b-34f68e161bdb",
   "metadata": {},
   "outputs": [
    {
     "ename": "LoadError",
     "evalue": "UndefVarError: `is_reward_shaping_on` not defined",
     "output_type": "error",
     "traceback": [
      "UndefVarError: `is_reward_shaping_on` not defined",
      "",
      "Stacktrace:",
      " [1] top-level scope",
      "   @ ./In[22]:41"
     ]
    }
   ],
   "source": [
    "# draw the path -\n",
    "p = plot();\n",
    "initial_site = startstate\n",
    "hit_absorbing_state = false\n",
    "s = world_model.states[initial_site];\n",
    "visited_sites = Set{Tuple{Int,Int}}();\n",
    "push!(visited_sites, initial_site);\n",
    "\n",
    "while (hit_absorbing_state == false)\n",
    "    current_position = world_model.coordinates[s]\n",
    "    a = my_π[s];\n",
    "    Δ = world_model.moves[a];\n",
    "    new_position =  current_position .+ Δ\n",
    "    scatter!([current_position[1]],[current_position[2]], label=\"\", showaxis=:false, msc=:black, c=:blue)\n",
    "    plot!([current_position[1], new_position[1]],[current_position[2],new_position[2]], label=\"\", arrow=true, lw=1, c=:gray)\n",
    "    \n",
    "    if (in(new_position, absorbing_state_set) == true || in(new_position, visited_sites) == true)\n",
    "        hit_absorbing_state = true;\n",
    "    elseif (haskey(world_model.states, new_position) == true)\n",
    "        s = world_model.states[new_position];\n",
    "        push!(visited_sites, new_position);\n",
    "    else\n",
    "        hit_absorbing_state = true; # we drove off the map\n",
    "    end\n",
    "end\n",
    "\n",
    "# draw the grid -\n",
    "for s ∈ 𝒮\n",
    "    current_position = world_model.coordinates[s]\n",
    "    a = my_π[s];\n",
    "    Δ = world_model.moves[a];\n",
    "    new_position =  current_position .+ Δ\n",
    "    \n",
    "    if (haskey(rewards, current_position) == true && rewards[current_position] == charging_reward)\n",
    "        scatter!([current_position[1]],[current_position[2]], label=\"\", showaxis=:false, c=:green, ms=4)\n",
    "    elseif (haskey(rewards, current_position) == true && rewards[current_position] == lava_reward)\n",
    "        scatter!([current_position[1]],[current_position[2]], label=\"\", showaxis=:false, c=:red, ms=4)\n",
    "    elseif (in(current_position, soft_wall_set) == true)\n",
    "        scatter!([current_position[1]],[current_position[2]], label=\"\", showaxis=:false, c=:gray69, ms=4)\n",
    "    else\n",
    "        if (is_reward_shaping_on == true)\n",
    "            new_color = weighted_color_mean(rbf(current_position, (5,6), σ = σ), colorant\"green\", colorant\"white\")\n",
    "            scatter!([current_position[1]],[current_position[2]], label=\"\", showaxis=:false, msc=:lightgray, c=new_color)\n",
    "        else\n",
    "            scatter!([current_position[1]],[current_position[2]], label=\"\", showaxis=:false, msc=:black, c=:white)\n",
    "        end\n",
    "    end\n",
    "end\n",
    "current()"
   ]
  },
  {
   "cell_type": "markdown",
   "id": "b3b5cd21-bb87-4bb0-b2e3-29391ba3859f",
   "metadata": {},
   "source": [
    "));## Disclaimer and Risks\n",
    "__This content is offered solely for training and  informational purposes__. No offer or solicitation to buy or sell securities or derivative products, or any investment or trading advice or strategy,  is made, given, or endorsed by the teaching team. \n",
    "\n",
    "__Trading involves risk__. Carefully review your financial situation before investing in securities, futures contracts, options, or commodity interests. Past performance, whether actual or indicated by historical tests of strategies, is no guarantee of future performance or success. Trading is generally inappropriate for someone with limited resources, investment or trading experience, or a low-risk tolerance.  Only risk capital that is not required for living expenses.\n",
    "\n",
    "__You are fully responsible for any investment or trading decisions you make__. Such decisions should be based solely on your evaluation of your financial circumstances, investment or trading objectives, risk tolerance, and liquidity needs."
   ]
  }
 ],
 "metadata": {
  "kernelspec": {
   "display_name": "Julia 1.9.3",
   "language": "julia",
   "name": "julia-1.9"
  },
  "language_info": {
   "file_extension": ".jl",
   "mimetype": "application/julia",
   "name": "julia",
   "version": "1.9.3"
  }
 },
 "nbformat": 4,
 "nbformat_minor": 5
}
